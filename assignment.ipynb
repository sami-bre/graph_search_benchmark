{
 "cells": [
  {
   "attachments": {},
   "cell_type": "markdown",
   "metadata": {},
   "source": [
    "## Building the graph and loading the data"
   ]
  },
  {
   "cell_type": "code",
   "execution_count": 5,
   "metadata": {},
   "outputs": [
    {
     "name": "stdout",
     "output_type": "stream",
     "text": [
      "{'Arad': [('Zerind', 75), ('Sibiu', 140), ('Timisoara', 118)],\n",
      " 'Bucharest': [('Giurgiu', 90),\n",
      "               ('Pitesti', 101),\n",
      "               ('Urziceni', 85),\n",
      "               ('Fagaras', 211)],\n",
      " 'Craiova': [('Drobeta', 120), ('Rimnicu Vilcea', 146), ('Pitesti', 138)],\n",
      " 'Drobeta': [('Mehadia', 75), ('Craiova', 120)],\n",
      " 'Eforie': [('Hirsova', 86)],\n",
      " 'Fagaras': [('Sibiu', 99), ('Bucharest', 211)],\n",
      " 'Giurgiu': [('Bucharest', 90)],\n",
      " 'Hirsova': [('Eforie', 86), ('Urziceni', 98)],\n",
      " 'Iasi': [('Vaslui', 92), ('Neamt', 87)],\n",
      " 'Lugoj': [('Timisoara', 111), ('Mehadia', 70)],\n",
      " 'Mehadia': [('Lugoj', 70), ('Drobeta', 75)],\n",
      " 'Neamt': [('Iasi', 87)],\n",
      " 'Oradea': [('Sibiu', 151), ('Zerind', 71)],\n",
      " 'Pitesti': [('Bucharest', 101), ('Rimnicu Vilcea', 97), ('Craiova', 138)],\n",
      " 'Rimnicu Vilcea': [('Craiova', 146), ('Sibiu', 80), ('Pitesti', 97)],\n",
      " 'Sibiu': [('Oradea', 151),\n",
      "           ('Arad', 140),\n",
      "           ('Rimnicu Vilcea', 80),\n",
      "           ('Fagaras', 99)],\n",
      " 'Timisoara': [('Arad', 118), ('Lugoj', 111)],\n",
      " 'Urziceni': [('Bucharest', 85), ('Hirsova', 98), ('Vaslui', 142)],\n",
      " 'Vaslui': [('Iasi', 92), ('Urziceni', 142)],\n",
      " 'Zerind': [('Oradea', 71), ('Arad', 75)]}\n"
     ]
    }
   ],
   "source": [
    "from graph import Graph\n",
    "\n",
    "graph = Graph()\n",
    "\n",
    "# adding the nodes\n",
    "\n",
    "with open('romania.txt', 'r') as file:\n",
    "    while True:\n",
    "        line = file.readline()\n",
    "        if (line == \"\"):\n",
    "            break\n",
    "        # we use 4 spaces to separate the cities and numbers\n",
    "        unpacked = line.split(sep=\"    \")\n",
    "        city, lat, long = unpacked\n",
    "        graph.addNode(city)\n",
    "\n",
    "# adding the edges\n",
    "graph.addUndirectedEdge(\"Oradea\",\"Sibiu\", 151, 151)\n",
    "graph.addUndirectedEdge(\"Oradea\",\"Zerind\", 71, 71)\n",
    "graph.addUndirectedEdge(\"Zerind\",\"Arad\", 75, 75)\n",
    "graph.addUndirectedEdge(\"Arad\",\"Sibiu\", 140, 140)\n",
    "graph.addUndirectedEdge(\"Arad\",\"Timisoara\", 118, 118)\n",
    "graph.addUndirectedEdge(\"Timisoara\",\"Lugoj\", 111, 111)\n",
    "graph.addUndirectedEdge(\"Lugoj\",\"Mehadia\", 70, 70)\n",
    "graph.addUndirectedEdge(\"Mehadia\",\"Drobeta\", 75, 75)\n",
    "graph.addUndirectedEdge(\"Craiova\",\"Drobeta\", 120, 120)\n",
    "graph.addUndirectedEdge(\"Craiova\",\"Rimnicu Vilcea\", 146, 146)\n",
    "graph.addUndirectedEdge(\"Giurgiu\",\"Bucharest\", 90, 90)\n",
    "graph.addUndirectedEdge(\"Bucharest\",\"Pitesti\", 101, 101)\n",
    "graph.addUndirectedEdge(\"Urziceni\",\"Bucharest\", 85, 85)\n",
    "graph.addUndirectedEdge(\"Hirsova\",\"Eforie\", 86, 86)\n",
    "graph.addUndirectedEdge(\"Hirsova\",\"Urziceni\", 98, 98)\n",
    "graph.addUndirectedEdge(\"Vaslui\",\"Iasi\", 92, 92)\n",
    "graph.addUndirectedEdge(\"Vaslui\",\"Urziceni\", 142, 142)\n",
    "graph.addUndirectedEdge(\"Neamt\",\"Iasi\", 87, 87)\n",
    "graph.addUndirectedEdge(\"Rimnicu Vilcea\",\"Sibiu\", 80, 80)\n",
    "graph.addUndirectedEdge(\"Rimnicu Vilcea\",\"Pitesti\", 97, 97)\n",
    "graph.addUndirectedEdge(\"Fagaras\",\"Sibiu\", 99, 99)\n",
    "graph.addUndirectedEdge(\"Fagaras\",\"Bucharest\", 211, 211)\n",
    "graph.addUndirectedEdge(\"Pitesti\",\"Craiova\", 138, 138)\n",
    "\n",
    "graph.show()"
   ]
  },
  {
   "cell_type": "code",
   "execution_count": 6,
   "metadata": {},
   "outputs": [
    {
     "data": {
      "text/plain": [
       "'Zerind'"
      ]
     },
     "execution_count": 6,
     "metadata": {},
     "output_type": "execute_result"
    }
   ],
   "source": [
    "# a function to give us a random node from a graph whenever we need it\n",
    "from random import random\n",
    "def getRandomNode(graph):\n",
    "    num = random()\n",
    "    transformed = int(num*len(graph.adjacencyList.keys()))\n",
    "    return list(graph.adjacencyList.keys())[transformed]\n",
    "\n",
    "getRandomNode(graph)"
   ]
  },
  {
   "cell_type": "code",
   "execution_count": 9,
   "metadata": {},
   "outputs": [],
   "source": [
    "from time import time\n",
    "class Timer:\n",
    "    def __init__(self):\n",
    "        self.startTime = None\n",
    "        self.endTime = None\n",
    "    def __enter__(self):\n",
    "        self.startTime = time()\n",
    "    def __exit__(self, exc_type, exc_val, exc_tb):\n",
    "        self.endTime = time()\n",
    "        print(f\"Time taken: {self.endTime - self.startTime}\")\n"
   ]
  },
  {
   "cell_type": "code",
   "execution_count": 47,
   "metadata": {},
   "outputs": [
    {
     "name": "stdout",
     "output_type": "stream",
     "text": [
      "Time taken: 0.00022101402282714844\n"
     ]
    }
   ],
   "source": [
    "from heuristic import Heuristic\n",
    "heuristic = Heuristic()\n",
    "with Timer():\n",
    "    graph.greedySearch(getRandomNode(graph), getRandomNode(graph), heuristic.distance)"
   ]
  },
  {
   "cell_type": "code",
   "execution_count": null,
   "metadata": {},
   "outputs": [],
   "source": []
  },
  {
   "cell_type": "code",
   "execution_count": null,
   "metadata": {},
   "outputs": [],
   "source": []
  }
 ],
 "metadata": {
  "kernelspec": {
   "display_name": "Python 3",
   "language": "python",
   "name": "python3"
  },
  "language_info": {
   "codemirror_mode": {
    "name": "ipython",
    "version": 3
   },
   "file_extension": ".py",
   "mimetype": "text/x-python",
   "name": "python",
   "nbconvert_exporter": "python",
   "pygments_lexer": "ipython3",
   "version": "3.10.7"
  },
  "orig_nbformat": 4
 },
 "nbformat": 4,
 "nbformat_minor": 2
}
